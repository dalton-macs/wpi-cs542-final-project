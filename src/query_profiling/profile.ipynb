{
 "cells": [
  {
   "metadata": {},
   "cell_type": "markdown",
   "source": [
    "### Profile TPC-H Queries\n",
    "Here we can profile the 22 queries from the TPC-H benchmark. The queries are defined in TPCHQueries.py where we run the SQL and return the execution time. Running the queries here we can see how they all compare and which queries are relatively fast or slow."
   ],
   "id": "34e948b86487bd22"
  },
  {
   "metadata": {
    "ExecuteTime": {
     "end_time": "2024-08-06T05:28:29.537208Z",
     "start_time": "2024-08-06T05:28:18.473348Z"
    }
   },
   "cell_type": "code",
   "source": [
    "from TPCH import *\n",
    "\n",
    "# create TPCH query object\n",
    "tpch = TPCHQueries()\n",
    "\n",
    "q1_res, q1_time = tpch.q1()\n",
    "print(q1_time)\n",
    "print(q1_res)"
   ],
   "id": "43f6cda49ffaa166",
   "outputs": [
    {
     "name": "stdout",
     "output_type": "stream",
     "text": [
      "10.611983299255371\n",
      "  L_RETURNFLAG L_LINESTATUS   sum_qty  sum_base_price  sum_disc_price  \\\n",
      "0            A            F  37734107    5.658655e+10    5.375826e+10   \n",
      "1            N            F    991417    1.487505e+09    1.413082e+09   \n",
      "2            N            O  74476040    1.117017e+11    1.061182e+11   \n",
      "3            R            F  37719753    5.656804e+10    5.374129e+10   \n",
      "\n",
      "     sum_charge    avg_qty     avg_price  avg_disc  count_order  \n",
      "0  5.590907e+10  25.522006  38273.129735  0.049985      1478493  \n",
      "1  1.469649e+09  25.516472  38284.467761  0.050093        38854  \n",
      "2  1.103670e+11  25.502227  38249.117989  0.049997      2920374  \n",
      "3  5.588962e+10  25.505794  38250.854626  0.050009      1478870  \n"
     ]
    }
   ],
   "execution_count": 1
  },
  {
   "metadata": {
    "ExecuteTime": {
     "end_time": "2024-08-06T05:17:24.859316Z",
     "start_time": "2024-08-06T05:17:24.854675Z"
    }
   },
   "cell_type": "code",
   "source": "",
   "id": "7b2610fb627a3edb",
   "outputs": [],
   "execution_count": null
  },
  {
   "metadata": {},
   "cell_type": "code",
   "outputs": [],
   "execution_count": null,
   "source": "",
   "id": "d2fc0616e10d149b"
  }
 ],
 "metadata": {
  "kernelspec": {
   "display_name": "Python 3",
   "language": "python",
   "name": "python3"
  },
  "language_info": {
   "codemirror_mode": {
    "name": "ipython",
    "version": 2
   },
   "file_extension": ".py",
   "mimetype": "text/x-python",
   "name": "python",
   "nbconvert_exporter": "python",
   "pygments_lexer": "ipython2",
   "version": "2.7.6"
  }
 },
 "nbformat": 4,
 "nbformat_minor": 5
}
