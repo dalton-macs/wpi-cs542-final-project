{
 "cells": [
  {
   "metadata": {},
   "cell_type": "markdown",
   "source": [
    "### Profile TPC-H Queries\n",
    "Here we can profile the 22 queries from the TPC-H benchmark. The queries are defined in TPCHQueries.py where we run the SQL and return the execution time. Running the queries here we can see how they all compare and which queries are relatively fast or slow."
   ],
   "id": "34e948b86487bd22"
  },
  {
   "metadata": {
    "jupyter": {
     "is_executing": true
    },
    "ExecuteTime": {
     "start_time": "2024-08-08T01:17:16.786672Z"
    }
   },
   "cell_type": "code",
   "source": [
    "from TPCH import *\n",
    "\n",
    "# create TPCH query object\n",
    "tpch = TPCHQueries()\n",
    "\n",
    "q1_res, q1_time = tpch.profile_query(\"22.sql\")\n",
    "print(q1_time)\n",
    "print(q1_res)"
   ],
   "id": "43f6cda49ffaa166",
   "outputs": [],
   "execution_count": null
  },
  {
   "metadata": {
    "ExecuteTime": {
     "end_time": "2024-08-07T03:01:36.243651Z",
     "start_time": "2024-08-07T03:01:36.236526Z"
    }
   },
   "cell_type": "code",
   "source": "",
   "id": "7b2610fb627a3edb",
   "outputs": [],
   "execution_count": null
  },
  {
   "metadata": {
    "ExecuteTime": {
     "end_time": "2024-08-07T03:01:52.524818Z",
     "start_time": "2024-08-07T03:01:52.521299Z"
    }
   },
   "cell_type": "code",
   "source": "",
   "id": "d2fc0616e10d149b",
   "outputs": [],
   "execution_count": null
  },
  {
   "metadata": {},
   "cell_type": "code",
   "outputs": [],
   "execution_count": null,
   "source": "",
   "id": "67a43b3d10ec1fd1"
  }
 ],
 "metadata": {
  "kernelspec": {
   "display_name": "Python 3",
   "language": "python",
   "name": "python3"
  },
  "language_info": {
   "codemirror_mode": {
    "name": "ipython",
    "version": 2
   },
   "file_extension": ".py",
   "mimetype": "text/x-python",
   "name": "python",
   "nbconvert_exporter": "python",
   "pygments_lexer": "ipython2",
   "version": "2.7.6"
  }
 },
 "nbformat": 4,
 "nbformat_minor": 5
}
