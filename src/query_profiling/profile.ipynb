{
 "cells": [
  {
   "metadata": {},
   "cell_type": "markdown",
   "source": [
    "### Profile TPC-H Queries\n",
    "Here we can profile the 22 queries from the TPC-H benchmark. The queries are defined in TPCHQueries.py where we run the SQL and return the execution time. Running the queries here we can see how they all compare and which queries are relatively fast or slow."
   ],
   "id": "34e948b86487bd22"
  },
  {
   "metadata": {
    "ExecuteTime": {
     "end_time": "2024-08-07T02:39:25.833053Z",
     "start_time": "2024-08-07T02:39:24.600641Z"
    }
   },
   "cell_type": "code",
   "source": [
    "from TPCH import *\n",
    "\n",
    "# create TPCH query object\n",
    "tpch = TPCHQueries()\n",
    "\n",
    "q1_res, q1_time = tpch.q4()\n",
    "print(q1_time)\n",
    "print(q1_res)"
   ],
   "id": "43f6cda49ffaa166",
   "outputs": [
    {
     "name": "stdout",
     "output_type": "stream",
     "text": [
      "0.7600998878479004\n",
      "   O_ORDERPRIORITY  order_count\n",
      "0         1-URGENT        10594\n",
      "1           2-HIGH        10476\n",
      "2         3-MEDIUM        10410\n",
      "3  4-NOT SPECIFIED        10556\n",
      "4            5-LOW        10487\n"
     ]
    }
   ],
   "execution_count": 1
  },
  {
   "metadata": {
    "ExecuteTime": {
     "end_time": "2024-08-06T05:17:24.859316Z",
     "start_time": "2024-08-06T05:17:24.854675Z"
    }
   },
   "cell_type": "code",
   "source": "",
   "id": "7b2610fb627a3edb",
   "outputs": [],
   "execution_count": null
  },
  {
   "metadata": {},
   "cell_type": "code",
   "outputs": [],
   "execution_count": null,
   "source": "",
   "id": "d2fc0616e10d149b"
  }
 ],
 "metadata": {
  "kernelspec": {
   "display_name": "Python 3",
   "language": "python",
   "name": "python3"
  },
  "language_info": {
   "codemirror_mode": {
    "name": "ipython",
    "version": 2
   },
   "file_extension": ".py",
   "mimetype": "text/x-python",
   "name": "python",
   "nbconvert_exporter": "python",
   "pygments_lexer": "ipython2",
   "version": "2.7.6"
  }
 },
 "nbformat": 4,
 "nbformat_minor": 5
}
