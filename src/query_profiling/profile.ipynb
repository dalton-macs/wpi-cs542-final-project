{
 "cells": [
  {
   "metadata": {},
   "cell_type": "markdown",
   "source": [
    "### Profile TPC-H Queries\n",
    "Here we can profile the 22 queries from the TPC-H benchmark. The queries are defined in TPCHQueries.py where we run the SQL and return the execution time. Running the queries here we can see how they all compare and which queries are relatively fast or slow."
   ],
   "id": "34e948b86487bd22"
  },
  {
   "metadata": {
    "ExecuteTime": {
     "end_time": "2024-08-08T06:54:41.828930Z",
     "start_time": "2024-08-08T02:01:00.106078Z"
    }
   },
   "cell_type": "code",
   "source": [
    "from TPCH import *\n",
    "\n",
    "# create TPCH query object\n",
    "tpch = TPCHQueries()\n",
    "times = []\n",
    "\n",
    "# queries 17, 20, and 22 timeout\n",
    "\n",
    "for i in range(1,23):\n",
    "    if i != 15:\n",
    "        res, time = tpch.profile_query(\"{}.sql\".format(i))\n",
    "        print(\"Query {} finished in {} seconds\".format(i, time))\n",
    "    if i == 15:\n",
    "        tpch.profile_query(\"15View.sql\", is_View=True)\n",
    "        res, time = tpch.profile_query(\"15.sql\")\n",
    "        print(\"Query {} finished in {} seconds\".format(i, time))\n",
    "        tpch.drop_view(\"revenue\")"
   ],
   "id": "43f6cda49ffaa166",
   "outputs": [
    {
     "name": "stdout",
     "output_type": "stream",
     "text": [
      "Query 1 finished in 10.608931541442871 seconds\n",
      "Query 2 finished in 0.5125432014465332 seconds\n",
      "Query 3 finished in 3.1823105812072754 seconds\n",
      "Query 4 finished in 0.7840778827667236 seconds\n",
      "Query 5 finished in 4.925973415374756 seconds\n",
      "Query 6 finished in 1.9346699714660645 seconds\n",
      "Query 7 finished in 7.706242799758911 seconds\n",
      "Query 8 finished in 13.477817296981812 seconds\n",
      "Query 9 finished in 36.24353861808777 seconds\n",
      "Query 10 finished in 2.6417510509490967 seconds\n",
      "Query 11 finished in 1.1486048698425293 seconds\n",
      "Query 12 finished in 1.86667799949646 seconds\n",
      "Query 13 finished in 25.654481887817383 seconds\n",
      "Query 14 finished in 2.1642000675201416 seconds\n",
      "Query 15 finished in 3.8043432235717773 seconds\n",
      "Query 16 finished in 0.5890522003173828 seconds\n",
      "Query 17 finished in 6601.8598890304565 seconds\n",
      "Query 18 finished in 2.241708993911743 seconds\n",
      "Query 19 finished in 2.634244918823242 seconds\n",
      "Query 20 finished in 9111.214214086533 seconds\n",
      "Query 21 finished in 12.42548418045044 seconds\n",
      "Query 22 finished in 1773.6222858428955 seconds\n"
     ]
    }
   ],
   "execution_count": 1
  },
  {
   "metadata": {},
   "cell_type": "code",
   "outputs": [],
   "execution_count": null,
   "source": "",
   "id": "cff87f31de79ffa"
  }
 ],
 "metadata": {
  "kernelspec": {
   "display_name": "Python 3",
   "language": "python",
   "name": "python3"
  },
  "language_info": {
   "codemirror_mode": {
    "name": "ipython",
    "version": 2
   },
   "file_extension": ".py",
   "mimetype": "text/x-python",
   "name": "python",
   "nbconvert_exporter": "python",
   "pygments_lexer": "ipython2",
   "version": "2.7.6"
  }
 },
 "nbformat": 4,
 "nbformat_minor": 5
}
