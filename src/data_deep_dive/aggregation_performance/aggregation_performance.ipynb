{
 "cells": [
  {
   "cell_type": "code",
   "execution_count": 68,
   "id": "02870a3f",
   "metadata": {},
   "outputs": [],
   "source": [
    "import sqlite3\n",
    "import time\n",
    "import tracemalloc\n",
    "import os"
   ]
  },
  {
   "cell_type": "code",
   "execution_count": 92,
   "id": "56ba3070",
   "metadata": {},
   "outputs": [],
   "source": [
    "def query_time_comparison(aggregation, table):\n",
    "    conn = sqlite3.connect('../../../data/tpch.db')\n",
    "    cursor = conn.cursor()\n",
    "    \n",
    "    start = time.time()\n",
    "    tracemalloc.start()\n",
    "    process = psutil.Process(os.getpid())\n",
    "    io_start = process.io_counters()\n",
    "    \n",
    "    cursor.execute(f\"SELECT {aggregation} FROM {table}\")\n",
    "    output = cursor.fetchone()[0]\n",
    "    \n",
    "    io_end = process.io_counters()\n",
    "    curr_mem, max_mem = tracemalloc.get_traced_memory()\n",
    "    tracemalloc.stop()\n",
    "    \n",
    "    stop = time.time()\n",
    "    diff = stop - start\n",
    "    \n",
    "    bytes_read = io_end.read_bytes - io_start.read_bytes\n",
    "    \n",
    "    cursor.execute(f\"SELECT COUNT(*) FROM {table}\")\n",
    "    size = cursor.fetchone()[0]\n",
    "    return diff, output, size, max_mem, bytes_read"
   ]
  },
  {
   "cell_type": "code",
   "execution_count": 101,
   "id": "2db71eea",
   "metadata": {},
   "outputs": [],
   "source": [
    "def query_stats(queries):\n",
    "    for i in queries:\n",
    "        exec_time, result, table_size, memory, read = query_time_comparison(i[0], i[1])\n",
    "        print(f\"Query: {i[0]}, Exec Time: {exec_time * 1000} ms, {table_size} rows, using {memory / 10 ** 6} MB, read {read} bytes\")"
   ]
  },
  {
   "cell_type": "code",
   "execution_count": 102,
   "id": "58b56796",
   "metadata": {},
   "outputs": [
    {
     "name": "stdout",
     "output_type": "stream",
     "text": [
      "Query: 1, Exec Time: 0.9996891021728516 ms, 150000 rows, using 0.001291 MB, read 16400 bytes\n",
      "Query: MAX(L_QUANTITY), Exec Time: 1404.4408798217773 ms, 6001215 rows, using 0.150223 MB, read 799535120 bytes\n",
      "Query: MAX(L_EXTENDEDPRICE), Exec Time: 1496.2201118469238 ms, 6001215 rows, using 0.150247 MB, read 799535120 bytes\n",
      "Query: MIN(L_QUANTITY), Exec Time: 1384.523868560791 ms, 6001215 rows, using 0.150247 MB, read 799535120 bytes\n",
      "Query: MIN(L_EXTENDEDPRICE), Exec Time: 1474.0173816680908 ms, 6001215 rows, using 0.150246 MB, read 799535120 bytes\n",
      "Query: AVG(L_QUANTITY), Exec Time: 1274.0275859832764 ms, 6001215 rows, using 0.150247 MB, read 799535120 bytes\n",
      "Query: AVG(L_EXTENDEDPRICE), Exec Time: 1308.032512664795 ms, 6001215 rows, using 0.150247 MB, read 799535120 bytes\n",
      "Query: MAX(P_RETAILPRICE), Exec Time: 48.00081253051758 ms, 200000 rows, using 0.001371 MB, read 24764432 bytes\n",
      "Query: MAX(O_TOTALPRICE), Exec Time: 328.07207107543945 ms, 1500000 rows, using 0.150359 MB, read 169259024 bytes\n",
      "Query: MIN(P_RETAILPRICE), Exec Time: 49.037933349609375 ms, 200000 rows, using 0.001399 MB, read 24764432 bytes\n",
      "Query: MIN(O_TOTALPRICE), Exec Time: 328.75585556030273 ms, 1500000 rows, using 0.150358 MB, read 169259024 bytes\n",
      "Query: AVG(P_RETAILPRICE), Exec Time: 42.999267578125 ms, 200000 rows, using 0.001371 MB, read 24764432 bytes\n",
      "Query: AVG(O_TOTALPRICE), Exec Time: 289.99924659729004 ms, 1500000 rows, using 0.150355 MB, read 169259024 bytes\n"
     ]
    }
   ],
   "source": [
    "uni_vs_semi_norm = ((\"1\", \"CUSTOMER\"), #just a dummy to clear out malloc / bytes clutter\n",
    "                    (\"MAX(L_QUANTITY)\", \"LINEITEM\"), (\"MAX(L_EXTENDEDPRICE)\", \"LINEITEM\"), \n",
    "                    (\"MIN(L_QUANTITY)\", \"LINEITEM\"), (\"MIN(L_EXTENDEDPRICE)\", \"LINEITEM\"),\n",
    "                    (\"AVG(L_QUANTITY)\", \"LINEITEM\"), (\"AVG(L_EXTENDEDPRICE)\", \"LINEITEM\"),\n",
    "                    (\"MAX(P_RETAILPRICE)\", \"PART\"), (\"MAX(O_TOTALPRICE)\", \"ORDERS\"),\n",
    "                    (\"MIN(P_RETAILPRICE)\", \"PART\"), (\"MIN(O_TOTALPRICE)\", \"ORDERS\"),\n",
    "                    (\"AVG(P_RETAILPRICE)\", \"PART\"), (\"AVG(O_TOTALPRICE)\", \"ORDERS\"))\n",
    "\n",
    "query_stats(uni_vs_semi_norm)"
   ]
  },
  {
   "cell_type": "code",
   "execution_count": 103,
   "id": "851207cc",
   "metadata": {},
   "outputs": [
    {
     "name": "stdout",
     "output_type": "stream",
     "text": [
      "Query: 1, Exec Time: 0.3254413604736328 ms, 150000 rows, using 0.001291 MB, read 16400 bytes\n",
      "Query: MAX(P_RETAILPRICE), Exec Time: 49.00002479553223 ms, 200000 rows, using 0.001371 MB, read 24764432 bytes\n",
      "Query: MAX(L_QUANTITY), Exec Time: 1383.2581043243408 ms, 6001215 rows, using 0.150336 MB, read 799535120 bytes\n",
      "Query: MIN(P_RETAILPRICE), Exec Time: 49.00026321411133 ms, 200000 rows, using 0.001399 MB, read 24764432 bytes\n",
      "Query: MIN(L_QUANTITY), Exec Time: 1379.3623447418213 ms, 6001215 rows, using 0.150355 MB, read 799535120 bytes\n",
      "Query: AVG(P_RETAILPRICE), Exec Time: 43.01285743713379 ms, 200000 rows, using 0.001371 MB, read 24764432 bytes\n",
      "Query: AVG(L_QUANTITY), Exec Time: 1277.653455734253 ms, 6001215 rows, using 0.150355 MB, read 799535120 bytes\n"
     ]
    }
   ],
   "source": [
    "low_vs_high_count = ((\"1\", \"CUSTOMER\"),\n",
    "                     (\"MAX(P_RETAILPRICE)\", \"PART\"), (\"MAX(L_QUANTITY)\", \"LINEITEM\"),\n",
    "                     (\"MIN(P_RETAILPRICE)\", \"PART\"), (\"MIN(L_QUANTITY)\", \"LINEITEM\"),\n",
    "                     (\"AVG(P_RETAILPRICE)\", \"PART\"), (\"AVG(L_QUANTITY)\", \"LINEITEM\"))\n",
    "\n",
    "query_stats(low_vs_high_count)"
   ]
  },
  {
   "cell_type": "code",
   "execution_count": 105,
   "id": "6ad3d160",
   "metadata": {},
   "outputs": [
    {
     "name": "stdout",
     "output_type": "stream",
     "text": [
      "Query: 1, Exec Time: 0.0 ms, 150000 rows, using 0.001291 MB, read 16400 bytes\n",
      "Query: MAX(PS_SUPPLYCOST), Exec Time: 322.3903179168701 ms, 800000 rows, using 0.150235 MB, read 124567568 bytes\n",
      "Query: MAX(L_QUANTITY), Exec Time: 1392.5058841705322 ms, 6001215 rows, using 0.150243 MB, read 799535120 bytes\n",
      "Query: MAX(S_ACCTBAL), Exec Time: 5.001068115234375 ms, 10000 rows, using 0.001367 MB, read 1474576 bytes\n",
      "Query: MIN(PS_SUPPLYCOST), Exec Time: 202.50892639160156 ms, 800000 rows, using 0.001375 MB, read 124567568 bytes\n",
      "Query: MIN(L_QUANTITY), Exec Time: 1403.273344039917 ms, 6001215 rows, using 0.150244 MB, read 799535120 bytes\n",
      "Query: MIN(S_ACCTBAL), Exec Time: 4.000425338745117 ms, 10000 rows, using 0.001367 MB, read 1474576 bytes\n",
      "Query: AVG(PS_SUPPLYCOST), Exec Time: 186.00010871887207 ms, 800000 rows, using 0.001375 MB, read 124567568 bytes\n",
      "Query: AVG(L_QUANTITY), Exec Time: 1304.9981594085693 ms, 6001215 rows, using 0.150463 MB, read 799535120 bytes\n",
      "Query: AVG(S_ACCTBAL), Exec Time: 3.000020980834961 ms, 10000 rows, using 0.001367 MB, read 1474576 bytes\n"
     ]
    }
   ],
   "source": [
    "low_vs_high_cardinality = ((\"1\", \"CUSTOMER\"),\n",
    "                           (\"MAX(PS_SUPPLYCOST)\", \"PARTSUPP\"), (\"MAX(L_QUANTITY)\", \"LINEITEM\"), (\"MAX(S_ACCTBAL)\", \"SUPPLIER\"),\n",
    "                           (\"MIN(PS_SUPPLYCOST)\", \"PARTSUPP\"), (\"MIN(L_QUANTITY)\", \"LINEITEM\"), (\"MIN(S_ACCTBAL)\", \"SUPPLIER\"),\n",
    "                           (\"AVG(PS_SUPPLYCOST)\", \"PARTSUPP\"), (\"AVG(L_QUANTITY)\", \"LINEITEM\"), (\"AVG(S_ACCTBAL)\", \"SUPPLIER\"))\n",
    "\n",
    "query_stats(low_vs_high_cardinality)"
   ]
  },
  {
   "cell_type": "code",
   "execution_count": null,
   "id": "5d4d20cb",
   "metadata": {},
   "outputs": [],
   "source": []
  }
 ],
 "metadata": {
  "kernelspec": {
   "display_name": "Python 3 (ipykernel)",
   "language": "python",
   "name": "python3"
  },
  "language_info": {
   "codemirror_mode": {
    "name": "ipython",
    "version": 3
   },
   "file_extension": ".py",
   "mimetype": "text/x-python",
   "name": "python",
   "nbconvert_exporter": "python",
   "pygments_lexer": "ipython3",
   "version": "3.9.13"
  }
 },
 "nbformat": 4,
 "nbformat_minor": 5
}
